{
 "cells": [
  {
   "cell_type": "markdown",
   "id": "6bb4f5c4-7caf-4a22-8acc-cde24395c8f4",
   "metadata": {},
   "source": [
    "# Simulating Tool for Doctor-Patient Interaction: An Analysis of AI Chatbots in Medical Care Contexts"
   ]
  },
  {
   "cell_type": "markdown",
   "id": "71c92784-684a-4275-b60e-d150b07f2042",
   "metadata": {},
   "source": [
    "## Introduction"
   ]
  },
  {
   "cell_type": "markdown",
   "id": "adb61cdd-ebac-4cc8-ac4a-08d73ae311cd",
   "metadata": {},
   "source": [
    "As artificial intelligence technologies, especially Large Language Models (LLMs), become increasingly integrated into everyday life, their influence on how people prepare for and understand healthcare interactions is becoming more significant. LLMs such as ChatGPT, Claude, Deepseek, and others are now capable of engaging in fluid, context-aware conversations. This makes them potentially useful tools in helping patients navigate the often overwhelming and highly asymmetrical world of doctor-patient communication.\n",
    "\n",
    "Doctor visits are typically time-constrained and emotionally charged, with many patients leaving appointments with unanswered questions, misunderstood information, or anxiety about what they should do next. These issues are especially pronounced for individuals with lower health literacy, language barriers, or communication anxiety. In this context, LLMs might offer low-cost, always-available support to help patients prepare for their appointments, clarify medical language, and even practice expressing sensitive concerns.\n",
    "\n",
    "This paper focuses on the communicative role LLMs could play in supporting—not replacing—doctor-patient interaction. Drawing from relevant literature and a series of simulated patient-AI interactions, I analyze how current LLMs perform in this role, what kinds of communication they facilitate, and what limitations or risks they pose. My goal is to critically explore how AI might shape the future of healthcare communication from the patient's perspective. \n",
    "\n",
    "For my "
   ]
  }
 ],
 "metadata": {
  "kernelspec": {
   "display_name": "Python 3-12 (COMM4190)",
   "language": "python",
   "name": "python3-12_comm4190"
  },
  "language_info": {
   "codemirror_mode": {
    "name": "ipython",
    "version": 3
   },
   "file_extension": ".py",
   "mimetype": "text/x-python",
   "name": "python",
   "nbconvert_exporter": "python",
   "pygments_lexer": "ipython3",
   "version": "3.12.8"
  }
 },
 "nbformat": 4,
 "nbformat_minor": 5
}
