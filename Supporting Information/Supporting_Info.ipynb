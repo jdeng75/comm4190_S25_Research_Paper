{
 "cells": [
  {
   "cell_type": "markdown",
   "id": "2a90e6d0-6d2f-4f7f-bf99-021211cd4cda",
   "metadata": {},
   "source": [
    "1. **Boyle, Patrick. “How AI Is Helping Doctors Communicate with Patients.” AAMC, 8 Aug. 2023, https://www.aamc.org/news/how-ai-helping-doctors-communicate-patients#:~:text=Northwell%20Health%2C%20in%20New%20York%2C,questions%20based%20on%20the%20answers.**\n",
    "\n",
    "\n",
    "- \"Northwell Health, in New York, uses a text-based chat service that reaches out to various types of patients, including birthing persons who are at high postpartum risk, patients with chronic conditions such as diabetes and heart failure, and patients returning home after certain surgeries. The service, Northwell Health Chats, is customized to each patient’s condition, medical history, and treatment. The chatbots send a message to start a conversation, posing a series of questions about the patient’s conditions, with choices of answers to click on or fill in. It asks follow-up questions based on the answers.\"\n",
    "- \"“In the post-pandemic world, our doctors are burned out and overburdened by trying to keep up with tremendous amounts of administrative paperwork, and questions from patients that are coming to their inboxes through patient portals,” says Jeffrey Ferranti, MD, senior vice president and chief digital officer of Duke Health in North Carolina\"\n",
    "- \"based at UC San Diego Health, took physician responses to 195 questions that people posed on a social media platform (Reddit’s r/AskDocs), fed the questions to a chatbot to create its own answers, then had health care professionals evaluate the quality of the answers. The reviewers preferred chatbot responses to physician responses in 78.6% of their evaluations, based on such factors as empathy, tone, and thoroughness.\"\n",
    "\n",
    "</br>\n",
    "\n",
    "2. **“Revolutionizing Patient Engagement: The Transformative Power of AI in Healthcare.” Welocalize, 13 Mar. 2024, https://www.welocalize.com/insights/revolutionizing-patient-engagement/#:~:text=Revolutionizing%20Patient%20Engagement%3A%20The%20Power,in%20managing%20their%20health%2C.**\n",
    "\n",
    "- AI facilitates a new level of engagement by personalizing communication, monitoring progress, and supporting patients in managing their health, ultimately leading to better outcomes.\n",
    "\n",
    "</br>\n",
    "\n",
    "3. **Dankwa-Mullan, Irene. “Health Equity and Ethical Considerations in Using Artificial Intelligence in Public Health and Medicine.” CDC, 22 Aug. 2024, https://www.cdc.gov/pcd/issues/2024/24_0245.htm#:~:text=against%20unauthorized%20access%20and%20breaches,for%20a%20specific%20AI%20application**\n",
    "\n",
    "- \"against unauthorized access and breaches (18,19). In addition, for populations with limited English proficiency, it is important to make sure informed consent forms are reviewed and explained to patients or translated. In this digital age, we can consider refining consent forms and including concise language for patients on how their data will be used in AI systems to inform their care. Finally, as part of ensuring privacy and confidentiality and limiting potential misuse, we should encourage collecting only data that are necessary for a specific AI application.\"\n",
    "- \"AI models are typically trained on available data, which may not adequately represent racial and ethnic minority groups or other populations that are medically underserved\"\n",
    "\n",
    "</br>\n",
    "\n",
    "4. **Hoover, Amanda. “An Eating Disorder Chatbot Is Suspended for Giving Harmful Advice.” Wired, 1 June 2023, https://www.wired.com/story/tessa-chatbot-suspended/#:~:text=A%20nonprofit%20has%20suspended%20the,that%20could%20exacerbate%20eating%20disorders.**\n",
    "\n",
    "- \"Fitzsimmons-Craft says the weight loss advice given was not part of the program her team worked to develop, and she doesn’t know how it got into the chatbot’s repertoire. She says she was surprised and saddened to see what Tessa had said. “Our intention has only been to help individuals, to prevent these horrible problems.” Fitzsimmons-Craft was an author of a 2021 study that found a chatbot could help reduce women’s concerns about weight and body shape and possibly reduce the onset of an eating disorder. Tessa is the chatbot built on this research.\""
   ]
  }
 ],
 "metadata": {
  "kernelspec": {
   "display_name": "Python 3 (ipykernel)",
   "language": "python",
   "name": "python3"
  },
  "language_info": {
   "codemirror_mode": {
    "name": "ipython",
    "version": 3
   },
   "file_extension": ".py",
   "mimetype": "text/x-python",
   "name": "python",
   "nbconvert_exporter": "python",
   "pygments_lexer": "ipython3",
   "version": "3.10.12"
  }
 },
 "nbformat": 4,
 "nbformat_minor": 5
}
